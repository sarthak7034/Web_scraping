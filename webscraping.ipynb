{
 "cells": [
  {
   "cell_type": "code",
   "execution_count": 314,
   "metadata": {},
   "outputs": [
    {
     "data": {
      "text/plain": [
       "{'Hotel_name': ['Kempinski Hotel Bristol Berlin'],\n",
       " 'Address': ['Kurfürstendamm 27, Charlottenburg-Wilmersdorf, 10719 Berlin, Germany'],\n",
       " 'stars': ['Excellent choice for couples'],\n",
       " 'Review_points': ['8.3/10'],\n",
       " 'Number_of_reviews': ['Score from 1401 reviews'],\n",
       " 'Description': [\" This 5-star hotel on Berlin’s Kurfürstendamm shopping street offers elegant rooms, an indoor pool and great public transport links. It is 600 metres from the Gedächtniskirche Church and Berlin Zoo. Kempinski Hotel Bristol Berlin offers air-conditioned rooms with large windows, modern bathrooms and international TV channels. Bathrobes are provided. Free WiFi is available in all areas and high-speed WiFi access can be booked at an additional cost. Gourmet cuisine is served in the popular Kempinski Grill. Reinhard's brasserie offer light cuisine and a terrace overlooking Kurfürstendamm. Guests can enjoy drinks in the Gobelin Halle lounge or in the Bristol Bar. Kempinski Bristol Berlin’s spa includes a sauna, steam room and gym. Massages and beauty treatments can also be booked here. The hotel's business centre can be used free of charge. Uhlandstraße Underground Station is just outside the Kempinski’s front door. The KaDeWe shopping mall is 2 stops away. \\n\"],\n",
       " 'Room_categories': [  Max                     Room type             \n",
       "  0   +            Suite with Balcony  Show prices\n",
       "  1       Classic Double or Twin Room  Show prices\n",
       "  2      Superior Double or Twin Room  Show prices\n",
       "  3                Deluxe Double Room  Show prices\n",
       "  4             Deluxe Business Suite  Show prices\n",
       "  5                      Junior Suite  Show prices\n",
       "  6                       Family Room  Show prices],\n",
       " 'Alternative_hotels': ['Hotel Adlon Kempinski Berlin',\n",
       "  'Grand Hyatt Berlin',\n",
       "  'Sofitel Berlin Kurfürstendamm',\n",
       "  'Hilton Berlin']}"
      ]
     },
     "execution_count": 314,
     "metadata": {},
     "output_type": "execute_result"
    }
   ],
   "source": [
    "from bs4 import BeautifulSoup as soup\n",
    "import codecs\n",
    "import pandas as pd\n",
    "\n",
    "dict = {\n",
    "    \"Hotel_name\": [],\n",
    "    \"Address\": [],\n",
    "    \"stars\": [],\n",
    "    \"Review_points\": [],\n",
    "    \"Number_of_reviews\": [],\n",
    "    \"Description\": [],\n",
    "    \"Room_categories\":[],\n",
    "    \"Alternative_hotels\":[]\n",
    "}\n",
    "article = ''\n",
    "headers = []\n",
    "\n",
    "html = codecs.open(\"./task 1 - Kempinski Hotel Bristol Berlin, Germany - Booking.com.html\", \"r\", \"utf-8\")\n",
    "a = html.read()\n",
    "bsObj = soup(a,'html.parser')\n",
    "name = bsObj.find(\"span\", class_=\"fn\").text.strip()\n",
    "dict[\"Hotel_name\"].append(name)\n",
    "address = bsObj.find(id=\"hp_address_subtitle\").text.strip()\n",
    "dict[\"Address\"].append(address)\n",
    "star = bsObj.find(\"span\", class_=\"invisible_spoken\").text.strip()\n",
    "dict[\"stars\"].append(star)\n",
    "review_points = bsObj.find(\"span\", class_=\"average js--hp-scorecard-scoreval\").text.strip()\n",
    "divider = bsObj.find(\"span\", class_=\"out_of\").text.strip()\n",
    "dict[\"Review_points\"].append(review_points+divider)\n",
    "No_review = bsObj.find(\"span\", class_=\"trackit score_from_number_of_reviews\").text.strip()\n",
    "dict[\"Number_of_reviews\"].append(No_review)\n",
    "content = bsObj.find(\"div\", id=\"summary\")\n",
    "# loop to remove paragraphs\n",
    "for i in content.findAll('p'):\n",
    "    article = article + ' ' +  i.text\n",
    "dict[\"Description\"].append(article)\n",
    "Room_categories = bsObj.find(\"table\",class_=\"roomstable rt_no_dates __big-buttons rt_lightbox_enabled\")\n",
    "\n",
    "for i in Room_categories.find_all('th'):\n",
    " title = i.text.replace('\\n','').strip()\n",
    " headers.append(title)\n",
    "\n",
    "mydata = pd.DataFrame(columns = headers)\n",
    "# Create a for loop to fill mydata\n",
    "alternative_hotels = []\n",
    "for j in Room_categories.find_all('tr')[1:]:\n",
    " row_data = j.find_all('td')\n",
    " row = [i.text for i in row_data]\n",
    " length = len(mydata)\n",
    " mydata.loc[length] = row\n",
    "\n",
    "mydata = mydata.replace('\\n','', regex=True)\n",
    "dict[\"Room_categories\"].append(mydata)\n",
    "hotels =bsObj.find('div', class_='tracked box sidebox')\n",
    "\n",
    "for i in hotels.find_all('ul', class_=\"lastViewedList small round4\"):\n",
    "  for j in i.find_all('li',{'data-stage': '2'}):  \n",
    "    hotels = j.find('a',class_='').text.strip()   \n",
    "    dict[\"Alternative_hotels\"].append(hotels)\n",
    "\n",
    "dict\n"
   ]
  }
 ],
 "metadata": {
  "interpreter": {
   "hash": "c79634922abe25a0b9d55bc2eb6abac259bd6c8bbb4022582053c5e5bdfcda26"
  },
  "kernelspec": {
   "display_name": "Python 3.7.9 64-bit",
   "language": "python",
   "name": "python3"
  },
  "language_info": {
   "codemirror_mode": {
    "name": "ipython",
    "version": 3
   },
   "file_extension": ".py",
   "mimetype": "text/x-python",
   "name": "python",
   "nbconvert_exporter": "python",
   "pygments_lexer": "ipython3",
   "version": "3.7.9"
  },
  "orig_nbformat": 4
 },
 "nbformat": 4,
 "nbformat_minor": 2
}
